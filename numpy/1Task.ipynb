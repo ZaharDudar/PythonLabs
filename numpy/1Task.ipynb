{
 "cells": [
  {
   "cell_type": "code",
   "execution_count": null,
   "metadata": {},
   "outputs": [
    {
     "data": {
      "text/plain": [
       "array([[120, 120, 120, ..., 120, 120, 120],\n",
       "       [120, 120, 120, ..., 120, 120, 120],\n",
       "       [120, 120, 120, ..., 120, 120, 120],\n",
       "       ...,\n",
       "       [120, 120, 121, ..., 121, 120, 120],\n",
       "       [120, 120, 121, ..., 121, 121, 120],\n",
       "       [120, 121, 121, ..., 121, 121, 121]], dtype=uint8)"
      ]
     },
     "execution_count": 21,
     "metadata": {},
     "output_type": "execute_result"
    }
   ],
   "source": [
    "from PIL import Image\n",
    "import numpy as np\n",
    "\n",
    "file_path = \"./lunar_images/lunar01_raw.jpg\"\n",
    "new_file_path = \"./lunar_images/lunar01_done.jpg\"\n",
    "# считаем картинку в numpy array\n",
    "img = Image.open(file_path)\n",
    "data = np.array(img)\n",
    "data"
   ]
  },
  {
   "cell_type": "code",
   "execution_count": 22,
   "metadata": {},
   "outputs": [
    {
     "data": {
      "text/plain": [
       "array([[56, 56, 56, ..., 56, 56, 56],\n",
       "       [56, 56, 56, ..., 56, 56, 56],\n",
       "       [56, 56, 56, ..., 56, 56, 56],\n",
       "       ...,\n",
       "       [56, 56, 85, ..., 85, 56, 56],\n",
       "       [56, 56, 85, ..., 85, 85, 56],\n",
       "       [56, 85, 85, ..., 85, 85, 85]], dtype=uint8)"
      ]
     },
     "execution_count": 22,
     "metadata": {},
     "output_type": "execute_result"
    }
   ],
   "source": [
    "max_d = np.max(data)\n",
    "min_d = np.min(data)\n",
    "\n",
    "updated_data = np.uint8(((data-min_d) / (max_d-min_d)) * 255)\n",
    "updated_data"
   ]
  },
  {
   "cell_type": "code",
   "execution_count": 23,
   "metadata": {},
   "outputs": [],
   "source": [
    "# запись картинки после обработки\n",
    "res_img = Image.fromarray(updated_data)\n",
    "res_img.save(new_file_path)"
   ]
  }
 ],
 "metadata": {
  "kernelspec": {
   "display_name": "Python 3",
   "language": "python",
   "name": "python3"
  },
  "language_info": {
   "codemirror_mode": {
    "name": "ipython",
    "version": 3
   },
   "file_extension": ".py",
   "mimetype": "text/x-python",
   "name": "python",
   "nbconvert_exporter": "python",
   "pygments_lexer": "ipython3",
   "version": "3.10.12"
  }
 },
 "nbformat": 4,
 "nbformat_minor": 2
}
