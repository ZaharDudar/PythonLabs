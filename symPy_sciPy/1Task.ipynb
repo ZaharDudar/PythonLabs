{
 "cells": [
  {
   "cell_type": "code",
   "execution_count": 1,
   "metadata": {},
   "outputs": [],
   "source": [
    "import sympy as sp\n",
    "sp.init_printing()"
   ]
  },
  {
   "cell_type": "code",
   "execution_count": 10,
   "metadata": {},
   "outputs": [
    {
     "data": {
      "text/latex": [
       "$\\displaystyle \\left[\\begin{matrix}0 & 0 & 0 & - \\frac{1}{\\rho} & 0 & 0 & 0 & 0 & 0\\\\0 & 0 & 0 & 0 & - \\frac{1}{\\rho} & 0 & 0 & 0 & 0\\\\0 & 0 & 0 & 0 & 0 & - \\frac{1}{\\rho} & 0 & 0 & 0\\\\- \\lambda - 2 \\mu & 0 & 0 & 0 & 0 & 0 & 0 & 0 & 0\\\\0 & - \\mu & 0 & 0 & 0 & 0 & 0 & 0 & 0\\\\0 & 0 & - \\mu & 0 & 0 & 0 & 0 & 0 & 0\\\\- \\lambda & 0 & 0 & 0 & 0 & 0 & 0 & 0 & 0\\\\0 & 0 & 0 & 0 & 0 & 0 & 0 & 0 & 0\\\\- \\lambda & 0 & 0 & 0 & 0 & 0 & 0 & 0 & 0\\end{matrix}\\right]$"
      ],
      "text/plain": [
       "⎡                  -1                    ⎤\n",
       "⎢   0      0   0   ───   0    0   0  0  0⎥\n",
       "⎢                   ρ                    ⎥\n",
       "⎢                                        ⎥\n",
       "⎢                       -1               ⎥\n",
       "⎢   0      0   0    0   ───   0   0  0  0⎥\n",
       "⎢                        ρ               ⎥\n",
       "⎢                                        ⎥\n",
       "⎢                            -1          ⎥\n",
       "⎢   0      0   0    0    0   ───  0  0  0⎥\n",
       "⎢                             ρ          ⎥\n",
       "⎢                                        ⎥\n",
       "⎢-λ - 2⋅μ  0   0    0    0    0   0  0  0⎥\n",
       "⎢                                        ⎥\n",
       "⎢   0      -μ  0    0    0    0   0  0  0⎥\n",
       "⎢                                        ⎥\n",
       "⎢   0      0   -μ   0    0    0   0  0  0⎥\n",
       "⎢                                        ⎥\n",
       "⎢   -λ     0   0    0    0    0   0  0  0⎥\n",
       "⎢                                        ⎥\n",
       "⎢   0      0   0    0    0    0   0  0  0⎥\n",
       "⎢                                        ⎥\n",
       "⎣   -λ     0   0    0    0    0   0  0  0⎦"
      ]
     },
     "execution_count": 10,
     "metadata": {},
     "output_type": "execute_result"
    }
   ],
   "source": [
    "lam, mu, rho = sp.symbols('lambda mu rho')\n",
    "x=sp.symbols(\"x\")\n",
    "matrix = sp.Matrix([\n",
    "    [0, 0, 0, -1/rho, 0, 0, 0, 0, 0],\n",
    "    [0, 0, 0, 0, -1/rho, 0, 0, 0, 0],\n",
    "    [0, 0, 0, 0, 0, -1/rho, 0, 0, 0],\n",
    "    [-(lam + 2*mu), 0, 0, 0, 0, 0, 0, 0, 0],\n",
    "    [0, -mu, 0, 0, 0, 0, 0, 0, 0],\n",
    "    [0, 0, -mu, 0, 0, 0, 0, 0, 0],\n",
    "    [-lam, 0, 0, 0, 0, 0, 0, 0, 0],\n",
    "    [0, 0, 0, 0, 0, 0, 0, 0, 0],\n",
    "    [-lam, 0, 0, 0, 0, 0, 0, 0, 0]\n",
    "])\n",
    "matrix"
   ]
  },
  {
   "cell_type": "code",
   "execution_count": 12,
   "metadata": {},
   "outputs": [
    {
     "data": {
      "image/png": "[encoded data removed]",
      "text/latex": [
       "$\\displaystyle \\left[ 0, \\  - \\sqrt{\\frac{\\mu}{\\rho}}, \\  \\sqrt{\\frac{\\mu}{\\rho}}, \\  - \\sqrt{\\frac{\\lambda}{\\rho} + \\frac{2 \\mu}{\\rho}}, \\  \\sqrt{\\frac{\\lambda}{\\rho} + \\frac{2 \\mu}{\\rho}}\\right]$"
      ],
      "text/plain": [
       "⎡        ___      ___       _________      _________⎤\n",
       "⎢       ╱ μ      ╱ μ       ╱ λ   2⋅μ      ╱ λ   2⋅μ ⎥\n",
       "⎢0, -  ╱  ─ ,   ╱  ─ , -  ╱  ─ + ─── ,   ╱  ─ + ─── ⎥\n",
       "⎣    ╲╱   ρ   ╲╱   ρ    ╲╱   ρ    ρ    ╲╱   ρ    ρ  ⎦"
      ]
     },
     "execution_count": 12,
     "metadata": {},
     "output_type": "execute_result"
    }
   ],
   "source": [
    "sp.solve(sp.Eq(sp.det(matrix-x*sp.Matrix.diag([1]*9)), 0),x)"
   ]
  },
  {
   "cell_type": "code",
   "execution_count": 13,
   "metadata": {},
   "outputs": [
    {
     "data": {
      "image/png": "[encoded data removed]",
      "text/latex": [
       "$\\displaystyle \\left\\{ 0 : 3, \\  - \\sqrt{\\frac{\\mu}{\\rho}} : 2, \\  \\sqrt{\\frac{\\mu}{\\rho}} : 2, \\  - \\sqrt{\\frac{\\lambda + 2 \\mu}{\\rho}} : 1, \\  \\sqrt{\\frac{\\lambda + 2 \\mu}{\\rho}} : 1\\right\\}$"
      ],
      "text/plain": [
       "⎧           ___         ___          _________         _________   ⎫\n",
       "⎪          ╱ μ         ╱ μ          ╱ λ + 2⋅μ         ╱ λ + 2⋅μ    ⎪\n",
       "⎨0: 3, -  ╱  ─ : 2,   ╱  ─ : 2, -  ╱  ─────── : 1,   ╱  ─────── : 1⎬\n",
       "⎪       ╲╱   ρ      ╲╱   ρ       ╲╱      ρ         ╲╱      ρ       ⎪\n",
       "⎩                                                                  ⎭"
      ]
     },
     "execution_count": 13,
     "metadata": {},
     "output_type": "execute_result"
    }
   ],
   "source": [
    "matrix.eigenvals()"
   ]
  }
 ],
 "metadata": {
  "kernelspec": {
   "display_name": "Python 3",
   "language": "python",
   "name": "python3"
  },
  "language_info": {
   "codemirror_mode": {
    "name": "ipython",
    "version": 3
   },
   "file_extension": ".py",
   "mimetype": "text/x-python",
   "name": "python",
   "nbconvert_exporter": "python",
   "pygments_lexer": "ipython3",
   "version": "3.10.12"
  }
 },
 "nbformat": 4,
 "nbformat_minor": 2
}
