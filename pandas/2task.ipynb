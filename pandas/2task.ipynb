{
 "cells": [
  {
   "cell_type": "code",
   "execution_count": 1,
   "metadata": {},
   "outputs": [],
   "source": [
    "import pandas as pd\n",
    "import matplotlib.pyplot as plt"
   ]
  },
  {
   "cell_type": "code",
   "execution_count": 2,
   "metadata": {},
   "outputs": [
    {
     "data": {
      "text/html": [
       "<div>\n",
       "<style scoped>\n",
       "    .dataframe tbody tr th:only-of-type {\n",
       "        vertical-align: middle;\n",
       "    }\n",
       "\n",
       "    .dataframe tbody tr th {\n",
       "        vertical-align: top;\n",
       "    }\n",
       "\n",
       "    .dataframe thead th {\n",
       "        text-align: right;\n",
       "    }\n",
       "</style>\n",
       "<table border=\"1\" class=\"dataframe\">\n",
       "  <thead>\n",
       "    <tr style=\"text-align: right;\">\n",
       "      <th></th>\n",
       "      <th>CARGO</th>\n",
       "      <th>PRICE</th>\n",
       "      <th>WEIGHT</th>\n",
       "    </tr>\n",
       "  </thead>\n",
       "  <tbody>\n",
       "    <tr>\n",
       "      <th>0</th>\n",
       "      <td>Nimble</td>\n",
       "      <td>1540</td>\n",
       "      <td>16</td>\n",
       "    </tr>\n",
       "    <tr>\n",
       "      <th>1</th>\n",
       "      <td>Nimble</td>\n",
       "      <td>1635</td>\n",
       "      <td>20</td>\n",
       "    </tr>\n",
       "    <tr>\n",
       "      <th>2</th>\n",
       "      <td>Nimble</td>\n",
       "      <td>1592</td>\n",
       "      <td>15</td>\n",
       "    </tr>\n",
       "    <tr>\n",
       "      <th>3</th>\n",
       "      <td>Nimble</td>\n",
       "      <td>1173</td>\n",
       "      <td>10</td>\n",
       "    </tr>\n",
       "    <tr>\n",
       "      <th>4</th>\n",
       "      <td>Nimble</td>\n",
       "      <td>1909</td>\n",
       "      <td>11</td>\n",
       "    </tr>\n",
       "    <tr>\n",
       "      <th>...</th>\n",
       "      <td>...</td>\n",
       "      <td>...</td>\n",
       "      <td>...</td>\n",
       "    </tr>\n",
       "    <tr>\n",
       "      <th>645</th>\n",
       "      <td>Medium</td>\n",
       "      <td>398</td>\n",
       "      <td>58</td>\n",
       "    </tr>\n",
       "    <tr>\n",
       "      <th>646</th>\n",
       "      <td>Medium</td>\n",
       "      <td>321</td>\n",
       "      <td>107</td>\n",
       "    </tr>\n",
       "    <tr>\n",
       "      <th>647</th>\n",
       "      <td>Medium</td>\n",
       "      <td>339</td>\n",
       "      <td>53</td>\n",
       "    </tr>\n",
       "    <tr>\n",
       "      <th>648</th>\n",
       "      <td>Medium</td>\n",
       "      <td>329</td>\n",
       "      <td>128</td>\n",
       "    </tr>\n",
       "    <tr>\n",
       "      <th>649</th>\n",
       "      <td>Medium</td>\n",
       "      <td>355</td>\n",
       "      <td>122</td>\n",
       "    </tr>\n",
       "  </tbody>\n",
       "</table>\n",
       "<p>650 rows × 3 columns</p>\n",
       "</div>"
      ],
      "text/plain": [
       "      CARGO  PRICE  WEIGHT\n",
       "0    Nimble   1540      16\n",
       "1    Nimble   1635      20\n",
       "2    Nimble   1592      15\n",
       "3    Nimble   1173      10\n",
       "4    Nimble   1909      11\n",
       "..      ...    ...     ...\n",
       "645  Medium    398      58\n",
       "646  Medium    321     107\n",
       "647  Medium    339      53\n",
       "648  Medium    329     128\n",
       "649  Medium    355     122\n",
       "\n",
       "[650 rows x 3 columns]"
      ]
     },
     "execution_count": 2,
     "metadata": {},
     "output_type": "execute_result"
    }
   ],
   "source": [
    "df = pd.read_csv(\"flights.csv\", usecols=[\"CARGO\", \"PRICE\", \"WEIGHT\"])\n",
    "df"
   ]
  },
  {
   "cell_type": "code",
   "execution_count": 40,
   "metadata": {},
   "outputs": [
    {
     "data": {
      "text/html": [
       "<div>\n",
       "<style scoped>\n",
       "    .dataframe tbody tr th:only-of-type {\n",
       "        vertical-align: middle;\n",
       "    }\n",
       "\n",
       "    .dataframe tbody tr th {\n",
       "        vertical-align: top;\n",
       "    }\n",
       "\n",
       "    .dataframe thead th {\n",
       "        text-align: right;\n",
       "    }\n",
       "</style>\n",
       "<table border=\"1\" class=\"dataframe\">\n",
       "  <thead>\n",
       "    <tr style=\"text-align: right;\">\n",
       "      <th></th>\n",
       "      <th>PRICE</th>\n",
       "      <th>WEIGHT</th>\n",
       "    </tr>\n",
       "    <tr>\n",
       "      <th>CARGO</th>\n",
       "      <th></th>\n",
       "      <th></th>\n",
       "    </tr>\n",
       "  </thead>\n",
       "  <tbody>\n",
       "    <tr>\n",
       "      <th>Jumbo</th>\n",
       "      <td>76795</td>\n",
       "      <td>18709</td>\n",
       "    </tr>\n",
       "    <tr>\n",
       "      <th>Medium</th>\n",
       "      <td>36312</td>\n",
       "      <td>9507</td>\n",
       "    </tr>\n",
       "    <tr>\n",
       "      <th>Nimble</th>\n",
       "      <td>752588</td>\n",
       "      <td>7545</td>\n",
       "    </tr>\n",
       "  </tbody>\n",
       "</table>\n",
       "</div>"
      ],
      "text/plain": [
       "         PRICE  WEIGHT\n",
       "CARGO                 \n",
       "Jumbo    76795   18709\n",
       "Medium   36312    9507\n",
       "Nimble  752588    7545"
      ]
     },
     "execution_count": 40,
     "metadata": {},
     "output_type": "execute_result"
    }
   ],
   "source": [
    "df1 = df.pivot_table(\n",
    "    index=\"CARGO\",\n",
    "    values=[\"WEIGHT\",\"PRICE\"],\n",
    "    aggfunc=\"sum\"\n",
    ")\n",
    "df1"
   ]
  },
  {
   "cell_type": "code",
   "execution_count": 41,
   "metadata": {},
   "outputs": [
    {
     "data": {
      "text/html": [
       "<div>\n",
       "<style scoped>\n",
       "    .dataframe tbody tr th:only-of-type {\n",
       "        vertical-align: middle;\n",
       "    }\n",
       "\n",
       "    .dataframe tbody tr th {\n",
       "        vertical-align: top;\n",
       "    }\n",
       "\n",
       "    .dataframe thead th {\n",
       "        text-align: right;\n",
       "    }\n",
       "</style>\n",
       "<table border=\"1\" class=\"dataframe\">\n",
       "  <thead>\n",
       "    <tr style=\"text-align: right;\">\n",
       "      <th></th>\n",
       "      <th>PRICE</th>\n",
       "      <th>WEIGHT</th>\n",
       "    </tr>\n",
       "    <tr>\n",
       "      <th>CARGO</th>\n",
       "      <th></th>\n",
       "      <th></th>\n",
       "    </tr>\n",
       "  </thead>\n",
       "  <tbody>\n",
       "    <tr>\n",
       "      <th>Jumbo</th>\n",
       "      <td>50</td>\n",
       "      <td>50</td>\n",
       "    </tr>\n",
       "    <tr>\n",
       "      <th>Medium</th>\n",
       "      <td>100</td>\n",
       "      <td>100</td>\n",
       "    </tr>\n",
       "    <tr>\n",
       "      <th>Nimble</th>\n",
       "      <td>500</td>\n",
       "      <td>500</td>\n",
       "    </tr>\n",
       "  </tbody>\n",
       "</table>\n",
       "</div>"
      ],
      "text/plain": [
       "        PRICE  WEIGHT\n",
       "CARGO                \n",
       "Jumbo      50      50\n",
       "Medium    100     100\n",
       "Nimble    500     500"
      ]
     },
     "execution_count": 41,
     "metadata": {},
     "output_type": "execute_result"
    }
   ],
   "source": [
    "df2 = df.pivot_table(\n",
    "    index=\"CARGO\",\n",
    "    aggfunc=\"count\"\n",
    ")\n",
    "df2"
   ]
  },
  {
   "cell_type": "code",
   "execution_count": 89,
   "metadata": {},
   "outputs": [
    {
     "data": {
      "image/png": "[encoded data removed]",
      "text/plain": [
       "<Figure size 640x480 with 2 Axes>"
      ]
     },
     "metadata": {},
     "output_type": "display_data"
    },
    {
     "data": {
      "image/png": "[encoded data removed]",
      "text/plain": [
       "<Figure size 640x480 with 1 Axes>"
      ]
     },
     "metadata": {},
     "output_type": "display_data"
    }
   ],
   "source": [
    "fig, ax = plt.subplots()\n",
    "ax1=ax.twinx()\n",
    "df1 = df.pivot_table(\n",
    "    index=\"CARGO\",\n",
    "    values=[\"WEIGHT\",\"PRICE\"],\n",
    "    aggfunc=\"sum\"\n",
    ").plot(kind=\"bar\")\n",
    "\n",
    "# ax = df1.plot( kind= 'bar' , secondary_y= 'PRICE' )\n",
    "# ax.legend(loc=\"center\")\n",
    "# df1.PRICE.plot(kind='bar', ax=ax,width=0.3, position=0)\n",
    "# df1.WEIGHT.plot(kind='bar',color=\"orange\" , ax=ax1,width=0.3, position=1)\n",
    "# ax.set_ylabel('Total price')\n",
    "# ax1.set_ylabel('Total weight')\n",
    "# df2.plot.bar(ax=ax1)"
   ]
  },
  {
   "cell_type": "code",
   "execution_count": 85,
   "metadata": {},
   "outputs": [
    {
     "name": "stdout",
     "output_type": "stream",
     "text": [
      "    CARGO  num   price  weight\n",
      "0   Jumbo   50   76795   18709\n",
      "1  Medium  100   36312    9507\n",
      "2  Nimble  500  752588    7545\n"
     ]
    },
    {
     "data": {
      "text/plain": [
       "<matplotlib.legend.Legend at 0x7fd5ce1bbbb0>"
      ]
     },
     "execution_count": 85,
     "metadata": {},
     "output_type": "execute_result"
    },
    {
     "data": {
      "image/png": "[encoded data removed]",
      "text/plain": [
       "<Figure size 640x480 with 3 Axes>"
      ]
     },
     "metadata": {},
     "output_type": "display_data"
    }
   ],
   "source": [
    "fig, ax = plt.subplots()\n",
    "# fig.subplots_adjust(right=0.75)\n",
    "twin1 = ax.twinx()\n",
    "twin2 = ax.twinx()\n",
    "df2 = df.groupby(\"CARGO\").agg(\n",
    "    num = (\"CARGO\", \"count\"),\n",
    "    price = (\"PRICE\", \"sum\"),\n",
    "    weight = (\"WEIGHT\", \"sum\"),\n",
    ").reset_index()\n",
    "print(df2)\n",
    "twin2.spines.right.set_position((\"axes\", 1.2))\n",
    "p1 = ax.bar(df2[\"CARGO\"], df2[\"num\"], color=\"tab:blue\", label=\"Num\")\n",
    "p2 = twin1.bar(df2[\"CARGO\"], df2[\"price\"], color=\"tab:orange\", label=\"Price\")\n",
    "p3 = twin2.bar(df2[\"CARGO\"], df2[\"weight\"], color=\"tab:green\", label=\"Weight\")\n",
    "\n",
    "ax.set(xlabel=\"Comp\", ylabel=\"Num\")\n",
    "twin1.set(ylabel=\"Price\")\n",
    "twin2.set(ylabel=\"Weight\")\n",
    "\n",
    "# ax.yaxis.label.set_color(p1.get_color())\n",
    "# twin1.yaxis.label.set_color(p2.get_color())\n",
    "# twin2.yaxis.label.set_color(p3.get_color())\n",
    "\n",
    "# ax.tick_params(axis='y', colors=p1.get_color())\n",
    "# twin1.tick_params(axis='y', colors=p2.get_color())\n",
    "# twin2.tick_params(axis='y', colors=p3.get_color())\n",
    "\n",
    "ax.legend(handles=[p1, p2, p3])"
   ]
  },
  {
   "cell_type": "code",
   "execution_count": null,
   "metadata": {},
   "outputs": [],
   "source": []
  }
 ],
 "metadata": {
  "kernelspec": {
   "display_name": "Python 3",
   "language": "python",
   "name": "python3"
  },
  "language_info": {
   "codemirror_mode": {
    "name": "ipython",
    "version": 3
   },
   "file_extension": ".py",
   "mimetype": "text/x-python",
   "name": "python",
   "nbconvert_exporter": "python",
   "pygments_lexer": "ipython3",
   "version": "3.10.12"
  }
 },
 "nbformat": 4,
 "nbformat_minor": 2
}
